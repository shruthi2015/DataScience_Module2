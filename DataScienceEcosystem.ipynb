{
 "cells": [
  {
   "cell_type": "markdown",
   "id": "e094ded0-c3d4-4110-8d9b-1a72db1d040a",
   "metadata": {},
   "source": [
    "# Data Science Tools and Ecosystem"
   ]
  },
  {
   "cell_type": "markdown",
   "id": "d3572320-f2bf-4be2-a6bc-1b4bccb2116f",
   "metadata": {},
   "source": [
    "## In this notebook, Data Science Tools and Ecosystem are summarized."
   ]
  },
  {
   "cell_type": "markdown",
   "id": "7083c9de-9e55-4be5-bfd5-0539844456f8",
   "metadata": {},
   "source": [
    "### Some of the popular languages that Data Scientists use are:\n",
    "\n",
    "1. **Python**\n",
    "2. **R**\n",
    "3. **SQL**\n",
    "4. **scala**"
   ]
  },
  {
   "cell_type": "markdown",
   "id": "3cf3452d-7cf6-42be-9efb-7952d51b91bd",
   "metadata": {},
   "source": [
    "**Objective:**\n",
    "\n",
    "* List popular languages for Data Science\n",
    "* Demonstrate arithmetic expressions in Python\n",
    "* Understand different open-source enviroments for Data Science"
   ]
  },
  {
   "cell_type": "markdown",
   "id": "f3a86e7e-e41c-4700-b92b-5b2787a998f7",
   "metadata": {},
   "source": [
    "### Some of the commonly used libraries used by Data Scientists include:\n",
    "\n",
    "1. **pandas**\n",
    "2. **numpy**\n",
    "3. **matplot**\n",
    "   "
   ]
  },
  {
   "cell_type": "markdown",
   "id": "a96bd40e-6680-4a37-9b36-c5a297dad371",
   "metadata": {},
   "source": [
    "| Data Science Tools |\n",
    "| -------------------- |\n",
    "| Jupter Notebook |\n",
    "| Visual Studio |\n",
    "| Rstudio |\n"
   ]
  },
  {
   "cell_type": "markdown",
   "id": "e1b197a7-e424-4cf7-89ed-c6fab90fcbbc",
   "metadata": {},
   "source": [
    "### Below are a few examples of evaluating arithmetic expressions in Python"
   ]
  },
  {
   "cell_type": "code",
   "execution_count": 1,
   "id": "7ef2c2be-f682-476e-8004-b6eff434b402",
   "metadata": {},
   "outputs": [
    {
     "data": {
      "text/plain": [
       "17"
      ]
     },
     "execution_count": 1,
     "metadata": {},
     "output_type": "execute_result"
    }
   ],
   "source": [
    "## This a simple arithmetic expression to mutiply then add integers\n",
    "\n",
    "(3*4)+5"
   ]
  },
  {
   "cell_type": "code",
   "execution_count": 4,
   "id": "66fee213-17f1-43ae-b89d-55eafc8f568d",
   "metadata": {},
   "outputs": [
    {
     "data": {
      "text/plain": [
       "3.3333333333333335"
      ]
     },
     "execution_count": 4,
     "metadata": {},
     "output_type": "execute_result"
    }
   ],
   "source": [
    "##  This will convert 200 minutes to hours by diving by 60\n",
    "\n",
    "200/60"
   ]
  },
  {
   "cell_type": "markdown",
   "id": "6cf2f67e-15cb-4b9a-92a4-dbdab2105dfe",
   "metadata": {},
   "source": [
    "## Author \n",
    "Sruthi Sunilkumar"
   ]
  },
  {
   "cell_type": "code",
   "execution_count": null,
   "id": "43549653-10e7-4521-a3d2-b9dc7719a82d",
   "metadata": {},
   "outputs": [],
   "source": []
  }
 ],
 "metadata": {
  "kernelspec": {
   "display_name": "Python 3 (ipykernel)",
   "language": "python",
   "name": "python3"
  },
  "language_info": {
   "codemirror_mode": {
    "name": "ipython",
    "version": 3
   },
   "file_extension": ".py",
   "mimetype": "text/x-python",
   "name": "python",
   "nbconvert_exporter": "python",
   "pygments_lexer": "ipython3",
   "version": "3.13.5"
  }
 },
 "nbformat": 4,
 "nbformat_minor": 5
}
